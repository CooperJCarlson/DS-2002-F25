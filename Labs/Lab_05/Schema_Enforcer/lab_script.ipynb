{
 "cells": [
  {
   "cell_type": "code",
   "execution_count": 1,
   "id": "6d9eec17",
   "metadata": {},
   "outputs": [],
   "source": [
    "# Task 1\n",
    "import csv\n",
    "\n",
    "colnames=[\"student_id\",\"major\",\"GPA\",\"is_cs_major\",\"credits_taken\"]\n",
    "data=[\n",
    "    [100,\"Statistics\",4.0,\"No\",17],\n",
    "    [101,\"CS\",3,\"Yes\",\"10.5\"],\n",
    "    [102,\"Economics\",3.8,\"No\",15],\n",
    "    [103,\"Computer Engineering\",3.4,\"Yes\",19],\n",
    "    [104,\"Math\",3.5,\"No\",15]\n",
    "]\n",
    "with open(\"raw_survey_data.csv\", mode=\"w\", newline=\"\") as file:\n",
    "    writer = csv.writer(file)\n",
    "    writer.writerow(colnames)\n",
    "    writer.writerows(data)"
   ]
  },
  {
   "cell_type": "code",
   "execution_count": 2,
   "id": "fd29f13c",
   "metadata": {},
   "outputs": [],
   "source": [
    "# Task 2\n",
    "\n",
    "import json \n",
    "\n",
    "courses=[\n",
    "  {\n",
    "    \"course_id\": \"DS2002\",\n",
    "    \"section\": \"001\",\n",
    "    \"title\": \"Data Science Systems\",\n",
    "    \"level\": 200,\n",
    "    \"instructors\": [\n",
    "      {\"name\": \"Austin Rivera\", \"role\": \"Primary\"}, \n",
    "      {\"name\": \"Heywood Williams-Tracy\", \"role\": \"TA\"} \n",
    "    ]\n",
    "  },\n",
    "  {\n",
    "    \"course_id\": \"STAT3280\",\n",
    "    \"title\": \"Data Visualization and Management\",\n",
    "    \"level\": 300,\n",
    "    \"instructors\": [\n",
    "      {\"name\": \"Rich Ross\", \"role\": \"Primary\"}\n",
    "    ]\n",
    "  },\n",
    "  {\n",
    "    \"course_id\": \"CHE4452\",\n",
    "    \"title\": \"Data Science for Chemical Engineering\",\n",
    "    \"level\": 400,\n",
    "    \"instructors\": [\n",
    "      {\"name\": \"Chris Paolucci\", \"role\": \"Primary\"}\n",
    "    ]\n",
    "  },\n",
    "  {\n",
    "    \"course_id\": \"STAT4130\",\n",
    "    \"title\": \"Applied Multivariate Statistics\",\n",
    "    \"level\": 400,\n",
    "    \"instructors\": [\n",
    "      {\"name\": \"Chunlin Li\", \"role\": \"Primary\"}\n",
    "    ]\n",
    "  },\n",
    "  {\n",
    "    \"course_id\": \"MUSI2120\",\n",
    "    \"title\": \"History of Jazz\",\n",
    "    \"level\": 200,\n",
    "    \"instructors\": [\n",
    "      {\"name\": \"Scott Deveaux\", \"role\": \"Primary\"}\n",
    "    ]\n",
    "  },\n",
    "]\n",
    "\n",
    "with open(\"raw_course_catalog.json\", \"w\") as f:\n",
    "    json.dump(courses, f)"
   ]
  },
  {
   "cell_type": "code",
   "execution_count": 3,
   "id": "658a3573",
   "metadata": {},
   "outputs": [
    {
     "name": "stderr",
     "output_type": "stream",
     "text": [
      "/tmp/ipykernel_19653/2270712185.py:5: FutureWarning: Downcasting behavior in `replace` is deprecated and will be removed in a future version. To retain the old behavior, explicitly call `result.infer_objects(copy=False)`. To opt-in to the future behavior, set `pd.set_option('future.no_silent_downcasting', True)`\n",
      "  df[\"is_cs_major\"]=df[\"is_cs_major\"].replace({\"Yes\": True, \"No\": False})\n"
     ]
    }
   ],
   "source": [
    "# Task 3\n",
    "import pandas as pd\n",
    "\n",
    "df=pd.read_csv(\"raw_survey_data.csv\")\n",
    "df[\"is_cs_major\"]=df[\"is_cs_major\"].replace({\"Yes\": True, \"No\": False})\n",
    "\n",
    "df=df.astype({\n",
    "    \"GPA\": \"float64\",\n",
    "    \"credits_taken\": \"float64\"\n",
    "})\n",
    "\n",
    "df.to_csv(\"clean_survey_data.csv\", index=False)"
   ]
  },
  {
   "cell_type": "code",
   "execution_count": 4,
   "id": "a9857dd8",
   "metadata": {},
   "outputs": [],
   "source": [
    "# Task 4\n",
    "\n",
    "with open(\"raw_course_catalog.json\", \"r\") as f:\n",
    "    data=json.load(f)\n",
    "\n",
    "df_j=pd.json_normalize(\n",
    "    data,\n",
    "    record_path=[\"instructors\"],\n",
    "    meta=[\"course_id\", \"title\", \"level\", \"section\"],\n",
    "    errors=\"ignore\" \n",
    ")\n",
    "\n",
    "df_j.to_csv(\"clean_course_catalog.csv\", index=False)"
   ]
  }
 ],
 "metadata": {
  "kernelspec": {
   "display_name": "Python 3",
   "language": "python",
   "name": "python3"
  },
  "language_info": {
   "codemirror_mode": {
    "name": "ipython",
    "version": 3
   },
   "file_extension": ".py",
   "mimetype": "text/x-python",
   "name": "python",
   "nbconvert_exporter": "python",
   "pygments_lexer": "ipython3",
   "version": "3.12.1"
  }
 },
 "nbformat": 4,
 "nbformat_minor": 5
}
